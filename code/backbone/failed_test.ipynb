{
 "cells": [
  {
   "cell_type": "code",
   "execution_count": null,
   "metadata": {},
   "outputs": [],
   "source": [
    "import torch\n",
    "import torchvision.models as models\n",
    "import torch.nn as nn\n",
    "from torchvision import datasets, transforms\n",
    "from torch.utils.data import DataLoader\n",
    "from tqdm import tqdm\n",
    "from resnet_cl import SlimmableResNet34\n",
    "\n",
    "resnet34 = models.resnet34(weights=models.ResNet34_Weights.IMAGENET1K_V1)\n",
    "\n",
    "state_dict = resnet34.state_dict()\n",
    "torch.save(state_dict, \"resnet34_imagenet.pth\")"
   ]
  },
  {
   "cell_type": "code",
   "execution_count": null,
   "metadata": {},
   "outputs": [],
   "source": [
    "def load_non_bn_weights(slimmable_model, resnet34_weights_path):\n",
    "    \"\"\"\n",
    "    Loads weights excluding BatchNorm layers.\n",
    "    \"\"\"\n",
    "    # Load pre-trained ResNet-34 weights\n",
    "    resnet34_state_dict = torch.load(resnet34_weights_path)\n",
    "\n",
    "    # Get Slimmable ResNet-34 state_dict\n",
    "    slimmable_state_dict = slimmable_model.state_dict()\n",
    "\n",
    "    # Filter out BN layers from ResNet-34\n",
    "    filtered_state_dict = {}\n",
    "    for name, param in resnet34_state_dict.items():\n",
    "        if \"bn\" not in name:  # Ignore BatchNorm layers\n",
    "            if name in slimmable_state_dict:  # Ensure key exists in the slimmable model\n",
    "                filtered_state_dict[name] = param\n",
    "\n",
    "    # Load the filtered weights into the Slimmable model\n",
    "    slimmable_model.load_state_dict(filtered_state_dict, strict=False)\n",
    "\n",
    "    print(f\"Loaded {len(filtered_state_dict)} non-BN layers from ResNet-34.\")\n",
    "    \n",
    "def compute_bn_statistics(model, data_loader, device, width_list):\n",
    "    \"\"\"\n",
    "    1. Switches the model to each width.\n",
    "    2. Resets BN statistics (running_mean, running_var, num_batches_tracked).\n",
    "    3. Runs a forward pass over the data_loader in training mode to update BN stats.\n",
    "    \"\"\"\n",
    "    model.to(device)\n",
    "    model.eval()\n",
    "\n",
    "    def reset_bn(module):\n",
    "        if isinstance(module, nn.BatchNorm2d) or isinstance(module, nn.BatchNorm1d):\n",
    "            module.running_mean = torch.zeros_like(module.running_mean)\n",
    "            module.running_var = torch.ones_like(module.running_var)\n",
    "            module.num_batches_tracked.zero_()\n",
    "\n",
    "    for w in width_list:\n",
    "        print(f\"\\nProcessing width={w}\")\n",
    "\n",
    "        # Switch model to the current width\n",
    "        model.switch_to_width(w)\n",
    "\n",
    "        # Reset BN statistics\n",
    "        model.apply(reset_bn)\n",
    "\n",
    "        # Run a forward pass in training mode (to update BN stats)\n",
    "        model.train()\n",
    "        with torch.no_grad():\n",
    "            for inputs, _ in tqdm(data_loader, desc=f\"Updating BN (Width={w})\", leave=True):\n",
    "                inputs = inputs.to(device)\n",
    "                _ = model(inputs)\n",
    "\n",
    "    # Set model back to evaluation mode\n",
    "    model.eval()\n",
    "    print(\"\\nBN statistics updated for all widths.\\n\")"
   ]
  },
  {
   "cell_type": "code",
   "execution_count": null,
   "metadata": {},
   "outputs": [
    {
     "name": "stdout",
     "output_type": "stream",
     "text": [
      "Loaded 38 non-BN layers from ResNet-34.\n"
     ]
    },
    {
     "name": "stderr",
     "output_type": "stream",
     "text": [
      "/var/folders/g9/zf2dfq8x7038gzv4b_2ylbtc0000gn/T/ipykernel_45845/3716705387.py:9: FutureWarning: You are using `torch.load` with `weights_only=False` (the current default value), which uses the default pickle module implicitly. It is possible to construct malicious pickle data which will execute arbitrary code during unpickling (See https://github.com/pytorch/pytorch/blob/main/SECURITY.md#untrusted-models for more details). In a future release, the default value for `weights_only` will be flipped to `True`. This limits the functions that could be executed during unpickling. Arbitrary objects will no longer be allowed to be loaded via this mode unless they are explicitly allowlisted by the user via `torch.serialization.add_safe_globals`. We recommend you start setting `weights_only=True` for any use case where you don't have full control of the loaded file. Please open an issue on GitHub for any issues related to this experimental feature.\n",
      "  resnet34_state_dict = torch.load(resnet34_weights_path)\n"
     ]
    }
   ],
   "source": [
    "slimmable_resnet34 = SlimmableResNet34(num_classes=1000)\n",
    "\n",
    "resnet34_weights_path = \"resnet34_imagenet.pth\"\n",
    "\n",
    "# Load weights (excluding BN layers)\n",
    "load_non_bn_weights(slimmable_resnet34, resnet34_weights_path)"
   ]
  },
  {
   "cell_type": "code",
   "execution_count": null,
   "metadata": {},
   "outputs": [
    {
     "name": "stdout",
     "output_type": "stream",
     "text": [
      "Train samples: 100000\n",
      "Test samples: 10000\n"
     ]
    }
   ],
   "source": [
    "data_dir = \"tiny_imgnet\" # DELETED FROM REPO\n",
    "\n",
    "tiny_imagenet_mean = [0.485, 0.456, 0.406]\n",
    "tiny_imagenet_std = [0.229, 0.224, 0.225]\n",
    "\n",
    "# Define data transformations\n",
    "train_transform = transforms.Compose([\n",
    "    transforms.RandomResizedCrop(64),  # Resize and random crop (Tiny ImageNet is 64x64)\n",
    "    transforms.RandomHorizontalFlip(),\n",
    "    transforms.ToTensor(),\n",
    "    transforms.Normalize(mean=tiny_imagenet_mean, std=tiny_imagenet_std)\n",
    "])\n",
    "\n",
    "test_transform = transforms.Compose([\n",
    "    transforms.Resize((64, 64)),\n",
    "    transforms.ToTensor(),\n",
    "    transforms.Normalize(mean=tiny_imagenet_mean, std=tiny_imagenet_std)\n",
    "])\n",
    "\n",
    "# Load train dataset\n",
    "train_dataset = datasets.ImageFolder(root=f\"{data_dir}/train\", transform=train_transform)\n",
    "train_loader = DataLoader(train_dataset, batch_size=64, shuffle=True, num_workers=4)\n",
    "\n",
    "test_dataset = datasets.ImageFolder(root=f\"{data_dir}/test\", transform=test_transform)\n",
    "test_loader = DataLoader(test_dataset, batch_size=64, shuffle=False, num_workers=4)\n",
    "\n",
    "# Check dataset size\n",
    "print(f\"Train samples: {len(train_dataset)}\")\n",
    "print(f\"Test samples: {len(test_dataset)}\")"
   ]
  },
  {
   "cell_type": "code",
   "execution_count": 7,
   "metadata": {},
   "outputs": [
    {
     "name": "stdout",
     "output_type": "stream",
     "text": [
      "\n",
      "[Recomputing BN] Processing width=0.25\n"
     ]
    },
    {
     "name": "stderr",
     "output_type": "stream",
     "text": [
      "Updating BN (Width=0.25): 100%|██████████| 1563/1563 [03:09<00:00,  8.23it/s]\n"
     ]
    },
    {
     "name": "stdout",
     "output_type": "stream",
     "text": [
      "\n",
      "[Recomputing BN] Processing width=0.5\n"
     ]
    },
    {
     "name": "stderr",
     "output_type": "stream",
     "text": [
      "Updating BN (Width=0.5): 100%|██████████| 1563/1563 [05:45<00:00,  4.52it/s]\n"
     ]
    },
    {
     "name": "stdout",
     "output_type": "stream",
     "text": [
      "\n",
      "[Recomputing BN] Processing width=0.75\n"
     ]
    },
    {
     "name": "stderr",
     "output_type": "stream",
     "text": [
      "Updating BN (Width=0.75): 100%|██████████| 1563/1563 [09:18<00:00,  2.80it/s]\n"
     ]
    },
    {
     "name": "stdout",
     "output_type": "stream",
     "text": [
      "\n",
      "[Recomputing BN] Processing width=1.0\n"
     ]
    },
    {
     "name": "stderr",
     "output_type": "stream",
     "text": [
      "Updating BN (Width=1.0): 100%|██████████| 1563/1563 [13:21<00:00,  1.95it/s]"
     ]
    },
    {
     "name": "stdout",
     "output_type": "stream",
     "text": [
      "\n",
      "✅ BN statistics updated for all widths.\n",
      "\n"
     ]
    },
    {
     "name": "stderr",
     "output_type": "stream",
     "text": [
      "\n"
     ]
    }
   ],
   "source": [
    "from flags import FLAGS\n",
    "\n",
    "device = torch.device(\"mps\" if torch.cuda.is_available() else \"cpu\")\n",
    "\n",
    "compute_bn_statistics(slimmable_resnet34, train_loader, device, FLAGS.width_mult_list)"
   ]
  },
  {
   "cell_type": "code",
   "execution_count": null,
   "metadata": {},
   "outputs": [
    {
     "name": "stderr",
     "output_type": "stream",
     "text": [
      "Evaluating: 100%|██████████| 157/157 [01:41<00:00,  1.55it/s]"
     ]
    },
    {
     "name": "stdout",
     "output_type": "stream",
     "text": [
      "\n",
      "Accuracy: 0.01%\n"
     ]
    },
    {
     "name": "stderr",
     "output_type": "stream",
     "text": [
      "\n"
     ]
    },
    {
     "data": {
      "text/plain": [
       "0.01"
      ]
     },
     "execution_count": 8,
     "metadata": {},
     "output_type": "execute_result"
    }
   ],
   "source": [
    "def evaluate_model(model, data_loader, device):\n",
    "    \"\"\"\n",
    "    Evaluates the model accuracy on the provided data loader with a progress bar.\n",
    "    \"\"\"\n",
    "    model.eval()\n",
    "    correct = 0\n",
    "    total = 0\n",
    "\n",
    "    with torch.no_grad():  # Disable gradient computation for speedup\n",
    "        for inputs, labels in tqdm(data_loader, desc=\"Evaluating\", leave=True):\n",
    "            inputs, labels = inputs.to(device), labels.to(device)\n",
    "\n",
    "            # Forward pass\n",
    "            outputs = model(inputs)\n",
    "            _, predicted = torch.max(outputs, 1) \n",
    "\n",
    "            # Update metrics\n",
    "            total += labels.size(0)\n",
    "            correct += (predicted == labels).sum().item()\n",
    "\n",
    "    accuracy = 100 * correct / total\n",
    "    print(f\"\\nAccuracy: {accuracy:.2f}%\")\n",
    "    return accuracy\n",
    "\n",
    "device = torch.device(\"mps\" if torch.cuda.is_available() else \"cpu\")\n",
    "resnet34.to(device)\n",
    "\n",
    "evaluate_model(resnet34, test_loader, device)"
   ]
  }
 ],
 "metadata": {
  "kernelspec": {
   "display_name": "slim",
   "language": "python",
   "name": "python3"
  },
  "language_info": {
   "codemirror_mode": {
    "name": "ipython",
    "version": 3
   },
   "file_extension": ".py",
   "mimetype": "text/x-python",
   "name": "python",
   "nbconvert_exporter": "python",
   "pygments_lexer": "ipython3",
   "version": "3.8.20"
  }
 },
 "nbformat": 4,
 "nbformat_minor": 2
}
