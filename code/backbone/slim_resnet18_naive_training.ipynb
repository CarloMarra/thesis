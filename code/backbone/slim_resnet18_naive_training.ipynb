{
  "cells": [
    {
      "cell_type": "code",
      "execution_count": null,
      "metadata": {
        "id": "lkql4HgPEjRc"
      },
      "outputs": [],
      "source": [
        "import torch\n",
        "import torch.nn as nn\n",
        "import torch.optim as optim\n",
        "import torchvision\n",
        "import torchvision.transforms as transforms\n",
        "from torch.utils.data import DataLoader\n",
        "import time\n",
        "from resnet_cl import SlimmableResNet18 as resnet18\n",
        "\n",
        "# Device configuration\n",
        "if torch.cuda.is_available():\n",
        "    device = torch.device(\"cuda\")\n",
        "elif torch.backends.mps.is_available():\n",
        "    device = torch.device(\"mps\")\n",
        "else:\n",
        "    device = torch.device(\"cpu\")\n",
        "    \n",
        "device = torch.device(\"cuda\" if torch.cuda.is_available() else \"cpu\")"
      ]
    },
    {
      "cell_type": "code",
      "execution_count": 9,
      "metadata": {
        "colab": {
          "base_uri": "https://localhost:8080/"
        },
        "id": "0gNqHsk1FYUK",
        "outputId": "e54b3065-c1a9-49d7-f309-444d1f9ac1b2"
      },
      "outputs": [
        {
          "name": "stdout",
          "output_type": "stream",
          "text": [
            "Files already downloaded and verified\n",
            "Files already downloaded and verified\n"
          ]
        }
      ],
      "source": [
        "# Hyperparameters\n",
        "num_epochs = 10\n",
        "batch_size = 128\n",
        "learning_rate = 0.001\n",
        "\n",
        "# Data transformations (including augmentation for training)\n",
        "transform_train = transforms.Compose([\n",
        "    transforms.RandomHorizontalFlip(),\n",
        "    transforms.RandomCrop(32, padding=4),\n",
        "    transforms.ToTensor(),\n",
        "    transforms.Normalize((0.5, 0.5, 0.5), (0.5, 0.5, 0.5))\n",
        "])\n",
        "\n",
        "transform_test = transforms.Compose([\n",
        "    transforms.ToTensor(),\n",
        "    transforms.Normalize((0.5, 0.5, 0.5), (0.5, 0.5, 0.5))\n",
        "])\n",
        "\n",
        "# Load CIFAR-10 dataset\n",
        "train_dataset = torchvision.datasets.CIFAR10(root='./data', train=True, transform=transform_train, download=True)\n",
        "test_dataset = torchvision.datasets.CIFAR10(root='./data', train=False, transform=transform_test, download=True)\n",
        "\n",
        "train_loader = DataLoader(dataset=train_dataset, batch_size=batch_size, shuffle=True, num_workers=2)\n",
        "test_loader = DataLoader(dataset=test_dataset, batch_size=batch_size, shuffle=False, num_workers=2)\n",
        "\n",
        "# Load ResNet-18 model\n",
        "model = resnet18(num_classes=10)  # Set num_classes to match CIFAR-10\n",
        "model = model.to(device)\n",
        "\n",
        "# Loss and optimizer\n",
        "criterion = nn.CrossEntropyLoss()\n",
        "optimizer = optim.Adam(model.parameters(), lr=learning_rate)"
      ]
    },
    {
      "cell_type": "code",
      "execution_count": 10,
      "metadata": {
        "colab": {
          "base_uri": "https://localhost:8080/"
        },
        "id": "ZjBeRltSF0iP",
        "outputId": "aa4d8e4a-e54a-42b3-8acb-e3e97044063a"
      },
      "outputs": [
        {
          "name": "stdout",
          "output_type": "stream",
          "text": [
            "Epoch [1/10], Loss: 1.5500, Train Acc: 43.50%, Time: 25.16s\n",
            "Validation Accuracy: 48.76%\n",
            "Model saved with accuracy: 48.76%\n",
            "Epoch [2/10], Loss: 1.1847, Train Acc: 57.80%, Time: 21.02s\n",
            "Validation Accuracy: 62.93%\n",
            "Model saved with accuracy: 62.93%\n",
            "Epoch [3/10], Loss: 1.0199, Train Acc: 64.02%, Time: 20.40s\n",
            "Validation Accuracy: 67.13%\n",
            "Model saved with accuracy: 67.13%\n",
            "Epoch [4/10], Loss: 0.9091, Train Acc: 68.01%, Time: 21.61s\n",
            "Validation Accuracy: 68.93%\n",
            "Model saved with accuracy: 68.93%\n",
            "Epoch [5/10], Loss: 0.8361, Train Acc: 70.60%, Time: 23.58s\n",
            "Validation Accuracy: 72.98%\n",
            "Model saved with accuracy: 72.98%\n",
            "Epoch [6/10], Loss: 0.7718, Train Acc: 73.06%, Time: 20.94s\n",
            "Validation Accuracy: 75.16%\n",
            "Model saved with accuracy: 75.16%\n",
            "Epoch [7/10], Loss: 0.7253, Train Acc: 74.73%, Time: 20.57s\n",
            "Validation Accuracy: 75.21%\n",
            "Model saved with accuracy: 75.21%\n",
            "Epoch [8/10], Loss: 0.6883, Train Acc: 75.85%, Time: 22.61s\n",
            "Validation Accuracy: 77.20%\n",
            "Model saved with accuracy: 77.20%\n",
            "Epoch [9/10], Loss: 0.6527, Train Acc: 77.25%, Time: 24.17s\n",
            "Validation Accuracy: 77.50%\n",
            "Model saved with accuracy: 77.50%\n",
            "Epoch [10/10], Loss: 0.6283, Train Acc: 78.32%, Time: 21.89s\n",
            "Validation Accuracy: 77.65%\n",
            "Model saved with accuracy: 77.65%\n"
          ]
        }
      ],
      "source": [
        "# Training loop\n",
        "def train():\n",
        "    best_acc = 0.0\n",
        "    for epoch in range(num_epochs):\n",
        "        model.train()\n",
        "        running_loss = 0.0\n",
        "        correct = 0\n",
        "        total = 0\n",
        "\n",
        "        start_time = time.time()\n",
        "        for i, (images, labels) in enumerate(train_loader):\n",
        "            images, labels = images.to(device), labels.to(device)\n",
        "\n",
        "            # Forward pass\n",
        "            outputs = model(images)\n",
        "            loss = criterion(outputs, labels)\n",
        "\n",
        "            # Backward and optimize\n",
        "            optimizer.zero_grad()\n",
        "            loss.backward()\n",
        "            optimizer.step()\n",
        "\n",
        "            running_loss += loss.item()\n",
        "            _, predicted = outputs.max(1)\n",
        "            total += labels.size(0)\n",
        "            correct += predicted.eq(labels).sum().item()\n",
        "\n",
        "        train_acc = 100. * correct / total\n",
        "        epoch_time = time.time() - start_time\n",
        "        print(f'Epoch [{epoch+1}/{num_epochs}], Loss: {running_loss/len(train_loader):.4f}, Train Acc: {train_acc:.2f}%, Time: {epoch_time:.2f}s')\n",
        "\n",
        "        # Validate after each epoch\n",
        "        test_acc = validate()\n",
        "\n",
        "        # Save best model\n",
        "        if test_acc > best_acc:\n",
        "            best_acc = test_acc\n",
        "            torch.save(model.state_dict(), 'best_resnet18_cifar10.pth')\n",
        "            print(\"Model saved with accuracy: {:.2f}%\".format(test_acc))\n",
        "\n",
        "# Validation function\n",
        "def validate():\n",
        "    model.eval()\n",
        "    correct = 0\n",
        "    total = 0\n",
        "    with torch.no_grad():\n",
        "        for images, labels in test_loader:\n",
        "            images, labels = images.to(device), labels.to(device)\n",
        "            outputs = model(images)\n",
        "            _, predicted = outputs.max(1)\n",
        "            total += labels.size(0)\n",
        "            correct += predicted.eq(labels).sum().item()\n",
        "    acc = 100. * correct / total\n",
        "    print(f'Validation Accuracy: {acc:.2f}%')\n",
        "    return acc\n",
        "\n",
        "if __name__ == '__main__':\n",
        "    train()"
      ]
    },
    {
      "cell_type": "code",
      "execution_count": 18,
      "metadata": {
        "colab": {
          "base_uri": "https://localhost:8080/"
        },
        "id": "BDqB5zR8GTaO",
        "outputId": "ca3b58b4-7a72-471c-9b89-9527d42e0b7f"
      },
      "outputs": [
        {
          "name": "stdout",
          "output_type": "stream",
          "text": [
            "\n",
            "=== Testing width multiplier: 0.25 ===\n"
          ]
        },
        {
          "name": "stderr",
          "output_type": "stream",
          "text": [
            "Evaluating: 100%|██████████| 79/79 [00:02<00:00, 33.94it/s]\n"
          ]
        },
        {
          "name": "stdout",
          "output_type": "stream",
          "text": [
            "\n",
            "Accuracy: 10.87%\n",
            "\n",
            "=== Testing width multiplier: 0.5 ===\n"
          ]
        },
        {
          "name": "stderr",
          "output_type": "stream",
          "text": [
            "Evaluating: 100%|██████████| 79/79 [00:02<00:00, 26.39it/s]\n"
          ]
        },
        {
          "name": "stdout",
          "output_type": "stream",
          "text": [
            "\n",
            "Accuracy: 11.08%\n",
            "\n",
            "=== Testing width multiplier: 0.75 ===\n"
          ]
        },
        {
          "name": "stderr",
          "output_type": "stream",
          "text": [
            "Evaluating: 100%|██████████| 79/79 [00:03<00:00, 24.74it/s]\n"
          ]
        },
        {
          "name": "stdout",
          "output_type": "stream",
          "text": [
            "\n",
            "Accuracy: 12.06%\n",
            "\n",
            "=== Testing width multiplier: 1.0 ===\n"
          ]
        },
        {
          "name": "stderr",
          "output_type": "stream",
          "text": [
            "Evaluating: 100%|██████████| 79/79 [00:02<00:00, 33.87it/s]"
          ]
        },
        {
          "name": "stdout",
          "output_type": "stream",
          "text": [
            "\n",
            "Accuracy: 77.65%\n"
          ]
        },
        {
          "name": "stderr",
          "output_type": "stream",
          "text": [
            "\n"
          ]
        }
      ],
      "source": [
        "from tqdm import tqdm\n",
        "from flags import FLAGS\n",
        "\n",
        "def evaluate_model(model, data_loader, device):\n",
        "    for width in FLAGS.width_mult_list:\n",
        "        print(f\"\\n=== Testing width multiplier: {width} ===\")\n",
        "        # Switch to desired width\n",
        "        model.switch_to_width(width)\n",
        "        model.eval()  # Set model to evaluation mode\n",
        "        correct = 0\n",
        "        total = 0\n",
        "\n",
        "        with torch.no_grad():  # Disable gradient computation for speedup\n",
        "            for inputs, labels in tqdm(data_loader, desc=\"Evaluating\", leave=True):\n",
        "                inputs, labels = inputs.to(device), labels.to(device)\n",
        "\n",
        "                # Forward pass\n",
        "                outputs = model(inputs)\n",
        "                _, predicted = torch.max(outputs, 1)  # Get class with highest probability\n",
        "\n",
        "                # Update metrics\n",
        "                total += labels.size(0)\n",
        "                correct += (predicted == labels).sum().item()\n",
        "\n",
        "        accuracy = 100 * correct / total\n",
        "        print(f\"\\nAccuracy: {accuracy:.2f}%\")\n",
        "\n",
        "# Run evaluation\n",
        "evaluate_model(model, test_loader, device)"
      ]
    }
  ],
  "metadata": {
    "accelerator": "GPU",
    "colab": {
      "gpuType": "T4",
      "provenance": []
    },
    "kernelspec": {
      "display_name": "slim",
      "language": "python",
      "name": "python3"
    },
    "language_info": {
      "name": "python",
      "version": "3.8.20"
    }
  },
  "nbformat": 4,
  "nbformat_minor": 0
}
